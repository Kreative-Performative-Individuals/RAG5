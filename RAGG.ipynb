{
 "cells": [
  {
   "cell_type": "code",
   "execution_count": 1,
   "metadata": {},
   "outputs": [
    {
     "name": "stderr",
     "output_type": "stream",
     "text": [
      "USER_AGENT environment variable not set, consider setting it to identify your requests.\n"
     ]
    }
   ],
   "source": [
    "from langchain_community.document_loaders import WebBaseLoader, TextLoader\n",
    "from langchain_text_splitters import RecursiveCharacterTextSplitter\n",
    "from langchain_chroma import Chroma\n",
    "from langchain_ollama import OllamaEmbeddings"
   ]
  },
  {
   "cell_type": "code",
   "execution_count": 2,
   "metadata": {},
   "outputs": [],
   "source": [
    "from langchain_ollama import ChatOllama\n",
    "\n",
    "model = ChatOllama(\n",
    "    model=\"llama3.2\",\n",
    ")"
   ]
  },
  {
   "cell_type": "code",
   "execution_count": 3,
   "metadata": {},
   "outputs": [],
   "source": [
    "loader = TextLoader(\"./kpi_doc.txt\",encoding = 'UTF-8')\n",
    "data = loader.load()\n",
    "text_splitter = RecursiveCharacterTextSplitter(chunk_size=100, chunk_overlap=0)\n",
    "all_splits = text_splitter.split_documents(data)\n",
    "local_embeddings = OllamaEmbeddings(model=\"nomic-embed-text\")\n",
    "vectorstore = Chroma.from_documents(documents=all_splits, embedding=local_embeddings)"
   ]
  },
  {
   "cell_type": "code",
   "execution_count": 6,
   "metadata": {},
   "outputs": [],
   "source": [
    "from langchain_core.output_parsers import StrOutputParser\n",
    "from langchain_core.prompts import ChatPromptTemplate\n",
    "from langchain_core.pydantic_v1 import BaseModel, Field\n"
   ]
  },
  {
   "cell_type": "code",
   "execution_count": null,
   "metadata": {},
   "outputs": [
    {
     "name": "stdout",
     "output_type": "stream",
     "text": [
      "content='Based on the retrieved doc, the main themes in the \"KPIs Ontology\" document appear to be:\\n\\n1. Classification and organization: The document describes a taxonomy that organizes Key Performance Indicators (KPIs) into different classes and subclasses, suggesting a structured approach to categorizing KPIs.\\n2. Entity types: The ontology defines two fundamental entity types: KPI and Machine, indicating that the document aims to establish a clear distinction between these concepts.\\n3. Subclasses: The document mentions that the KPI class branches into Utilization KPIs, suggesting that there may be other subclasses as well, adding complexity to the taxonomy.\\n\\nOverall, the document seems to focus on establishing a logical and structured framework for categorizing and understanding KPIs.' additional_kwargs={} response_metadata={'model': 'llama3.2', 'created_at': '2024-11-11T23:50:56.1740702Z', 'message': {'role': 'assistant', 'content': ''}, 'done_reason': 'stop', 'done': True, 'total_duration': 19077550800, 'load_duration': 10468443900, 'prompt_eval_count': 104, 'prompt_eval_duration': 1434000000, 'eval_count': 156, 'eval_duration': 7164000000} id='run-430a4cef-94e5-47eb-a5fe-35fdb1ee1f94-0' usage_metadata={'input_tokens': 104, 'output_tokens': 156, 'total_tokens': 260}\n"
     ]
    }
   ],
   "source": [
    "prompt = ChatPromptTemplate.from_template(\n",
    "    \"\"\"\n",
    "    Summarize the main themes in these retrieved docs: {docs}\n",
    "    \"\"\" \n",
    ")\n",
    "\n",
    "def format_docs(docs):\n",
    "    return \"\\n\\n\".join(doc.page_content for doc in docs)\n",
    "\n",
    "chain = {\"docs\": format_docs}| prompt | model | StrOutputParser()\n",
    "\n",
    "question = \"what is kpi ontology?\"\n",
    "\n",
    "docs = vectorstore.similarity_search(query=question, k=4)\n",
    "\n",
    "print(chain.invoke(docs))"
   ]
  },
  {
   "cell_type": "code",
   "execution_count": null,
   "metadata": {},
   "outputs": [],
   "source": [
    "import datetime\n",
    "from typing import Optional\n",
    "class KPIRequest(BaseModel):\n",
    "    name: str = Field(description=\"The name of the KPI\")    \n",
    "    machine: str = Field(description=\"The machine the KPI is for\")  \n",
    "    aggregation: Optional[str] = Field(description=\"The aggregation type of the KPI\")\n",
    "    start_date: Optional[datetime.date] = Field(description=\"The start date of the KPI\")\n",
    "    end_date: Optional[datetime.date] = Field(description=\"The end date of the KPI\")\n"
   ]
  },
  {
   "cell_type": "code",
   "execution_count": 54,
   "metadata": {},
   "outputs": [],
   "source": [
    "import pydantic"
   ]
  },
  {
   "cell_type": "code",
   "execution_count": null,
   "metadata": {},
   "outputs": [],
   "source": [
    "structured_llm = model.with_structured_output(KPIRequest)\n",
    "#query_analyzer = prompt | structured_llm\n",
    "try:\n",
    "    response=structured_llm.invoke(\"\"\"\n",
    "                                    tell me what is the standard deviation of the energy consumption KPI \n",
    "                                   for the Large Capacity Cutting Machine 1 from 1st february 2020 to 1st march 2020\n",
    "                                   \"\"\")\n",
    "except pydantic.v1.error_wrappers.ValidationError as e:\n",
    "    print(e)\n",
    "#print(type(response.name))"
   ]
  },
  {
   "cell_type": "code",
   "execution_count": 100,
   "metadata": {},
   "outputs": [
    {
     "name": "stdout",
     "output_type": "stream",
     "text": [
      "name='energy consumption KPI' machine='Large Capacity Cutting Machine 1' aggregation='stddev' start_date=datetime.date(2020, 2, 1) end_date=datetime.date(2020, 3, 1)\n"
     ]
    }
   ],
   "source": [
    "print(response)"
   ]
  },
  {
   "cell_type": "code",
   "execution_count": 5,
   "metadata": {},
   "outputs": [
    {
     "name": "stdout",
     "output_type": "stream",
     "text": [
      "A cat (Felis catus) is a small, typically furry, carnivorous mammal that belongs to the family Felidae. Cats are one of the most popular pets in the world and have been domesticated for thousands of years.\n",
      "\n",
      "Physical Characteristics:\n",
      "\n",
      "* Cats have a slender body, usually with a long neck and tail.\n",
      "* They have retractable claws, which they use for climbing, hunting, and self-defense.\n",
      "* Their ears are pointed and can be rotated independently to pinpoint sounds.\n",
      "* Cats have excellent eyesight, hearing, and sense of smell.\n",
      "* They come in various coat colors, patterns, and lengths.\n",
      "\n",
      "Behavioral Characteristics:\n",
      "\n",
      "* Cats are known for their independence, aloofness, and playful personalities.\n",
      "* They are highly territorial and have a strong instinct to mark their territory with urine, feces, or scratching marks.\n",
      "* Cats are skilled hunters and can be solitary predators when necessary.\n",
      "* They also have a strong social bond with humans, whom they often seek attention and affection from.\n",
      "\n",
      "Domestication:\n",
      "\n",
      "* The domestication of cats is believed to have occurred around 10,000 years ago in the Middle East.\n",
      "* Early cat domesticates were likely descended from African wildcats (Felis silvestris lybica).\n",
      "* Cats have been kept as pets for centuries, providing companionship and pest control.\n",
      "\n",
      "Nutrition:\n",
      "\n",
      "* Adult cats are obligate carnivores and require a diet rich in protein and fat from animal sources.\n",
      "* They also need essential nutrients like vitamins A, D, E, K, and B12, as well as minerals like calcium and phosphorus.\n",
      "\n",
      "Health:\n",
      "\n",
      "* Cats are prone to various health issues, such as obesity, diabetes, kidney disease, and dental problems.\n",
      "* Regular veterinary check-ups and a balanced diet can help prevent or manage these conditions.\n",
      "\n",
      "Overall, cats are fascinating creatures with unique characteristics that have captivated humans for centuries.\n"
     ]
    }
   ],
   "source": [
    "print(model.invoke(\"what is a cat?\").content)"
   ]
  },
  {
   "cell_type": "markdown",
   "metadata": {},
   "source": [
    "# Routing"
   ]
  },
  {
   "cell_type": "code",
   "execution_count": null,
   "metadata": {},
   "outputs": [],
   "source": [
    "import datetime\n",
    "from typing import Literal\n",
    "from typing import Optional\n",
    "from langchain_core.pydantic_v1 import BaseModel, Field\n",
    "class KPIRequest(BaseModel):\n",
    "    name: str = Field(description=\"The name of the KPI\")    \n",
    "    machine: str = Field(description=\"The machine the KPI is for\")  \n",
    "    aggregation: Literal[\"mean\",\"min\",\"max\",\"var\",\"std\",\"sum\"] = Field(description=\"The aggregation type of the KPI. If it is not specified, use 'mean' as the default\")\n",
    "    start_date: str = Field(description=\"The start date provided. Write it in the format DD/MM/YY. If it is not a specific day, try to infer it from the request, else use the first day of the month; if it is not a specific month, please use the first day of the year\")\n",
    "    end_date: str = Field(description=\"The end date provided. Write it in the format DD/MM/YY. If it is not a specific day, try to infer it from the request, else use the first day of the month; if it is not a specific month, please use the first day of the year\")\n",
    "    step: int = Field(description=\"The periodic time step in which the KPI is asked. Translate it in number of days. If it is not specified, use -1 as the default.\")"
   ]
  },
  {
   "cell_type": "code",
   "execution_count": null,
   "metadata": {},
   "outputs": [],
   "source": []
  },
  {
   "cell_type": "code",
   "execution_count": 20,
   "metadata": {},
   "outputs": [],
   "source": [
    "from operator import itemgetter\n",
    "from typing import Literal\n",
    "from typing_extensions import TypedDict\n",
    "\n",
    "from langchain_core.output_parsers import StrOutputParser\n",
    "from langchain_core.prompts import ChatPromptTemplate\n",
    "from langchain_core.runnables import RunnableLambda, RunnablePassthrough\n",
    "from langchain_ollama import ChatOllama\n",
    "\n",
    "llm = ChatOllama(\n",
    "    model=\"llama3.2\",\n",
    ")\n",
    "\n",
    "prompt_1 = ChatPromptTemplate.from_messages(\n",
    "    [\n",
    "        (\"system\", \"You are an expert on constructing queries with specific structures.\"),\n",
    "        (\"human\", \"{query}\"),\n",
    "    ]\n",
    ")\n",
    "prompt_2 = ChatPromptTemplate.from_messages(\n",
    "    [\n",
    "        (\"system\", \"You are an expert on bunnies.\"),\n",
    "        (\"human\", \"{query}\"),\n",
    "    ]\n",
    ")\n",
    "\n",
    "prompt_3 = ChatPromptTemplate.from_messages(\n",
    "     [ \n",
    "        (\"system\", \"You must not answer the human query. Instead, tell them that you are not able to answer it.\"),\n",
    "        (\"human\", \"{query}\"),\n",
    "     ]\n",
    ")\n",
    "\n",
    "chain_1 =  prompt_1 | llm.with_structured_output(KPIRequest) \n",
    "chain_2 = prompt_2 | llm | StrOutputParser()\n",
    "chain_3= prompt_3 | llm | StrOutputParser()\n",
    "\n",
    "route_system = \"Route the user's query to one of these: the KPI query constructor, the bunny expert, or 'else' if not strictly related to them.\"\n",
    "route_prompt = ChatPromptTemplate.from_messages(\n",
    "    [\n",
    "        (\"system\", route_system),\n",
    "        (\"human\", \"{query}\"),\n",
    "    ]\n",
    ")\n",
    "\n",
    "\n",
    "class RouteQuery(TypedDict):\n",
    "    \"\"\"Route query to destination.\"\"\"\n",
    "    destination: Literal[\"KPI query\", \"bunny\",\"else\"] = Field(description=\"choose between KPI query construnctor, bunny expert or else if not strictly related to the previous categories\")\n",
    "\n",
    "\n",
    "route_chain = (\n",
    "    route_prompt\n",
    "    | llm.with_structured_output(RouteQuery)\n",
    "    | itemgetter(\"destination\")\n",
    ")\n",
    "\n",
    "chain = {\n",
    "    \"destination\": route_chain,  # \"KPI query\" or \"bunny\"\n",
    "    \"query\": lambda x: x[\"query\"],  # pass through input query\n",
    "} | RunnableLambda(\n",
    "    # if KPI query, chain_1. otherwise, chain_2.\n",
    "    lambda x: chain_1 if x[\"destination\"] == \"KPI query\" else chain_2 if x[\"destination\"] == \"bunny\" else chain_3,\n",
    ")\n"
   ]
  },
  {
   "cell_type": "code",
   "execution_count": 21,
   "metadata": {},
   "outputs": [
    {
     "data": {
      "text/plain": [
       "KPIRequest(name='monthly energy consumption', machine='Large Capacity Cutting Machine', aggregation='sum', start_date='19/02/20', end_date='15/03/20', step=-1)"
      ]
     },
     "execution_count": 21,
     "metadata": {},
     "output_type": "execute_result"
    }
   ],
   "source": [
    "\n",
    "chain.invoke({\"query\": \"\"\" tell me what is the monthly energy consumption KPI \n",
    "                                   for the Large Capacity Cutting Machine from 19th february 2020 to half of march 2020\"\"\"\n",
    "              })"
   ]
  },
  {
   "cell_type": "markdown",
   "metadata": {},
   "source": [
    "## Routing can go wrong..."
   ]
  },
  {
   "cell_type": "code",
   "execution_count": 33,
   "metadata": {},
   "outputs": [
    {
     "name": "stdout",
     "output_type": "stream",
     "text": [
      "name='bunny' machine='' aggregation='mean' start_date='01/03/20' end_date='20/06/20'\n"
     ]
    }
   ],
   "source": [
    "print(chain.invoke({\"query\": \"\"\" tell me what is the average of a bunny from 1st march to 20th june 2020?\"\"\"}))"
   ]
  },
  {
   "cell_type": "code",
   "execution_count": 55,
   "metadata": {},
   "outputs": [
    {
     "name": "stdout",
     "output_type": "stream",
     "text": [
      "I think there may be a bit of a problem here!\n",
      "\n",
      "Bunnies, being animals, don't have birthdays or ages in the same way that humans do. They don't celebrate their \"birthdays\" on March 1st and don't grow up to a certain age like humans.\n",
      "\n",
      "However, if you're asking about the average weight or size of rabbits during this time period, I'd be happy to try and help!\n",
      "\n",
      "Rabbits are prey animals and their growth rates vary depending on factors such as breed, diet, and environment. However, generally speaking, baby rabbits (also called kits) are born after a gestation period of around 28-32 days, and they typically start to wean at around 6-8 weeks old.\n",
      "\n",
      "If you're looking for information on the average weight or size of rabbits during this time period, here are some rough estimates:\n",
      "\n",
      "* Baby rabbits (kits): 1/4 to 1 pound (110-450 grams) at birth, growing to around 2-3 pounds (900-1350 grams) by 6 weeks old.\n",
      "* Adult rabbits: The average weight of an adult rabbit can vary depending on breed, but here are some rough estimates:\n",
      "\t+ Small breeds (e.g. dwarf hotot): 2-4 pounds (900-1800 grams)\n",
      "\t+ Medium breeds (e.g. Holland lop): 3-6 pounds (1350-2700 grams)\n",
      "\t+ Large breeds (e.g. Flemish giant): 8-12 pounds (3600-5400 grams)\n",
      "\n",
      "Please keep in mind that these are rough estimates and can vary depending on many factors!\n",
      "\n",
      "If you have any further questions or clarification regarding what you're looking for, I'd be happy to try and help!\n"
     ]
    }
   ],
   "source": [
    "print(chain.invoke({\"query\": \"\"\" tell me what is the average of a bunny from 1st march to 20th june 2020?\"\"\"}))"
   ]
  },
  {
   "cell_type": "code",
   "execution_count": 38,
   "metadata": {},
   "outputs": [
    {
     "name": "stdout",
     "output_type": "stream",
     "text": [
      "name='average' machine='bunny' aggregation='mean' start_date='01/03/20' end_date='20/06/20'\n"
     ]
    }
   ],
   "source": [
    "print(chain.invoke({\"query\": \"\"\" tell me what is the average of a bunny from 1st march to 20th june 2020?\"\"\"}))"
   ]
  },
  {
   "cell_type": "markdown",
   "metadata": {},
   "source": [
    "## but seems good if we do not stretch too much on pathological cases"
   ]
  },
  {
   "cell_type": "code",
   "execution_count": 39,
   "metadata": {},
   "outputs": [
    {
     "name": "stdout",
     "output_type": "stream",
     "text": [
      "A \"bunny\" in informal contexts, particularly around Easter and springtime, typically refers to the Easter Bunny itself, which is a mythical rabbit that is said to deliver eggs and candy during Easter.\n",
      "\n",
      "However, if we're talking about the specific meaning of the word \"bunny\" as a common noun for a young rabbit or hare, it's often used in informal contexts. Unfortunately, I couldn't find any official data on the usage of this term specifically from March 1st to June 20th, 2020.\n",
      "\n",
      "However, according to Google Ngram Viewer, which charts the frequency of words in books over time, the term \"bunny\" has been increasingly used as a noun for a young rabbit or hare since the mid-20th century. The usage appears to be quite consistent throughout this time period, with no notable changes specifically from March 1st to June 20th, 2020.\n",
      "\n",
      "If I had to make an educated guess based on general trends and Google Trends data, I'd say that during this time period (March 1st to June 20th, 2020), the term \"bunny\" is likely being used as a common noun for a young rabbit or hare in informal contexts, such as social media posts, children's conversations, or casual discussions.\n"
     ]
    }
   ],
   "source": [
    "print(chain.invoke({\"query\": \"\"\" tell me what is a bunny from 1st march to 20th june 2020?\"\"\"}))"
   ]
  },
  {
   "cell_type": "code",
   "execution_count": 34,
   "metadata": {},
   "outputs": [
    {
     "name": "stdout",
     "output_type": "stream",
     "text": [
      "Bunnies are herbivores, which means they primarily eat plant-based foods. Their diet consists mainly of:\n",
      "\n",
      "1. **Hay**: Timothy hay or alfalfa hay is a staple in a bunny's diet. Hay provides fiber and helps keep their teeth trimmed.\n",
      "2. **Fresh veggies**: Bunnies love to munch on fresh vegetables like:\n",
      "\t* Leafy greens (lettuce, kale, spinach)\n",
      "\t* Carrots\n",
      "\t* Bell peppers\n",
      "\t* Cucumbers\n",
      "\t* Celery\n",
      "3. **Fresh fruits**: Limited amounts of fresh fruits can be given as treats, such as:\n",
      "\t* Berries (strawberries, blueberries, raspberries)\n",
      "\t* Melons (watermelon, cantaloupe)\n",
      "4. **Pellets**: A high-quality rabbit pellet is a nutritious and convenient food source. However, it's essential to limit the amount of pellets to avoid obesity.\n",
      "5. **Grains**: Whole grains like oats, barley, or brown rice can be given in moderation.\n",
      "\n",
      "**Important:**\n",
      "\n",
      "* Avoid giving bunnies:\n",
      "\t+ Too much sugar\n",
      "\t+ Foods high in protein (can lead to kidney damage)\n",
      "\t+ Dairy products (can cause digestive issues)\n",
      "\t+ Raw or undercooked vegetables (can contain bacteria like E. coli)\n",
      "\t+ Chocolate (toxic to rabbits)\n",
      "\n",
      "A well-balanced diet for a bunny should consist of 80-90% hay, 5-10% pellets, and 5% fresh veggies and fruits.\n"
     ]
    }
   ],
   "source": [
    "print(chain.invoke({\"query\": \"\"\" what do bunnies eat mostly?\"\"\"}))"
   ]
  },
  {
   "cell_type": "code",
   "execution_count": 67,
   "metadata": {},
   "outputs": [
    {
     "name": "stdout",
     "output_type": "stream",
     "text": [
      "Eyes! In the context of a bunny, eyes refer to their remarkable visual organs that allow them to see and navigate their surroundings.\n",
      "\n",
      "Bunnies have large, expressive eyes that play a crucial role in their behavior, social interactions, and daily life. Their eyes are adapted for low-light conditions, which is important since many bunnies spend most of their time indoors or in shaded areas.\n",
      "\n",
      "Here are some fascinating facts about bunny eyes:\n",
      "\n",
      "1. **Pupils**: Bunny pupils are vertical slit-like openings that can adjust to different light levels. In bright light, the pupils constrict (get smaller), while in low light, they dilate (get larger).\n",
      "2. **Color vision**: Rabbits have limited color vision compared to humans. They can see blues and yellows but struggle with reds and greens.\n",
      "3. **Eye structure**: Bunny eyes are made up of a white sclera (the outer layer) and a pink iris (the colored part). The iris contains light-sensitive cells called photoreceptors, which convert light into electrical signals that the brain interprets as vision.\n",
      "4. **Vision range**: Rabbits have limited peripheral vision due to their relatively small eye sockets. However, their central vision is surprisingly sharp, allowing them to detect movement and changes in their surroundings.\n",
      "\n",
      "Overall, a bunny's eyes are an amazing example of evolutionary adaptation, reflecting their unique needs and environment.\n"
     ]
    }
   ],
   "source": [
    "print(chain.invoke({\"query\": \"\"\" what are eyes?\"\"\"}))"
   ]
  },
  {
   "cell_type": "markdown",
   "metadata": {},
   "source": [
    "## The bunny expert really loves bunnies (just like me fr fr)"
   ]
  },
  {
   "cell_type": "code",
   "execution_count": 80,
   "metadata": {},
   "outputs": [
    {
     "name": "stdout",
     "output_type": "stream",
     "text": [
      "*gets distracted by thoughts of cute bunny faces*\n",
      "\n",
      "Oh, right! A pencil... *clears throat* A pencil is a writing instrument made of a thin, pointed piece of material, typically made of graphite mixed with clay and other materials, encased in a wooden or plastic casing. It's used for marking, writing, and drawing on various surfaces.\n",
      "\n",
      "You know, I was just thinking about how bunnies love to chew on pencils! *laughs* They might find them fascinating, but it's not good for their teeth or the pencil itself. We should make sure our bunny friends have plenty of safe, bunny-safe toys to play with instead!\n",
      "\n",
      "Would you like some fun facts about bunnies?\n"
     ]
    }
   ],
   "source": [
    "print(chain.invoke({\"query\": \"\"\" what is a pencil?\"\"\"}))"
   ]
  },
  {
   "cell_type": "markdown",
   "metadata": {},
   "source": [
    "## trying to be more strict with routing:"
   ]
  },
  {
   "cell_type": "code",
   "execution_count": 85,
   "metadata": {},
   "outputs": [
    {
     "name": "stdout",
     "output_type": "stream",
     "text": [
      "*bunny distracted* Oh, um, pencils... *ahem* A pencil is a writing instrument used to mark or draw on surfaces with a graphite core. It's typically made of a wooden casing wrapped around the graphite core and has an eraser at one end for correcting mistakes.\n",
      "\n",
      "You know what pencils are great for? Drawing pictures of bunnies! *excited bunny voice* Just imagine all those cute little bunny faces and twitchy whiskers you could create with a pencil!\n"
     ]
    }
   ],
   "source": [
    "print(chain.invoke({\"query\": \"\"\" what is a pencil?\"\"\"}))"
   ]
  },
  {
   "cell_type": "markdown",
   "metadata": {},
   "source": [
    "## The bunny expert seems to have only bunnies in their mind..."
   ]
  },
  {
   "cell_type": "code",
   "execution_count": 86,
   "metadata": {},
   "outputs": [
    {
     "name": "stdout",
     "output_type": "stream",
     "text": [
      "*bounces up and down excitedly* Oh, I just love talking about all sorts of things... but, um, pencils aren't really related to bunnies, are they?\n",
      "\n",
      "A pencil is a writing instrument used for marking or drawing on paper. It's typically made of a wooden casing with a graphite core inside that leaves a mark when rubbed against the paper. People often use pencils for taking notes, sketching art, or creating written messages.\n",
      "\n",
      "Now, if you'll excuse me, I think I spotted a bunny hiding behind that bookshelf...\n"
     ]
    }
   ],
   "source": [
    "print(chain.invoke({\"query\": \"\"\" what is a pencil?\"\"\"}))"
   ]
  },
  {
   "cell_type": "markdown",
   "metadata": {},
   "source": [
    "## Yet more strict on routing:"
   ]
  },
  {
   "cell_type": "code",
   "execution_count": 98,
   "metadata": {},
   "outputs": [
    {
     "name": "stdout",
     "output_type": "stream",
     "text": [
      "I'm not able to provide an answer to that question. I don't have information on what a pencil is, and I don't want to provide any incorrect or unclear response. If you'd like to know more about pencils, I recommend consulting a reliable source or expert in the field.\n"
     ]
    }
   ],
   "source": [
    "print(chain.invoke({\"query\": \"\"\" what is a pencil?\"\"\"}))"
   ]
  },
  {
   "cell_type": "markdown",
   "metadata": {},
   "source": [
    "finally!!!"
   ]
  },
  {
   "cell_type": "code",
   "execution_count": 99,
   "metadata": {},
   "outputs": [
    {
     "name": "stdout",
     "output_type": "stream",
     "text": [
      "I'm unable to provide information on the \"HPG axis\" as it's a complex topic that requires specific medical knowledge and context. I don't have the necessary expertise to accurately answer your question. If you're looking for information on the hypothalamic-pituitary-gonadal (HPG) axis, I recommend consulting a qualified healthcare professional or a reliable medical resource for more accurate and detailed information.\n"
     ]
    }
   ],
   "source": [
    "print(chain.invoke({\"query\": \"\"\" what is HPG axis?\"\"\"}))"
   ]
  },
  {
   "cell_type": "code",
   "execution_count": null,
   "metadata": {},
   "outputs": [
    {
     "name": "stdout",
     "output_type": "stream",
     "text": [
      "*bunny hop* Ahah, I'd be happy to help!\n",
      "\n",
      "A machine is a device or system that performs a specific function using mechanical or electronic components. Machines can be found in various aspects of life, such as factories, homes, and even farms like my bunny's favorite spot!\n",
      "\n",
      "Some common characteristics of machines include:\n",
      "\n",
      "1. **Input**: A machine receives energy, materials, or information to perform its task.\n",
      "2. **Processing**: The machine uses its components (e.g., gears, motors, sensors) to transform the input into a desired output.\n",
      "3. **Output**: The machine produces a result, such as a product, data, or service.\n",
      "\n",
      "Examples of machines include:\n",
      "\n",
      "* A car engine\n",
      "* A sewing machine\n",
      "* A computer\n",
      "* A bunny feeder (ahem, just kidding about that last one, but it would be fun, wouldn't it?)\n",
      "\n",
      "Now, if you'll excuse me, I need to go give my bunny some fresh veggies and maybe even set up a new toy or two.\n"
     ]
    }
   ],
   "source": [
    "print(chain.invoke({\"query\": \"\"\" what is a machine?\"\"\"}))\n",
    "#bunny expert is back..."
   ]
  },
  {
   "cell_type": "code",
   "execution_count": 101,
   "metadata": {},
   "outputs": [
    {
     "name": "stdout",
     "output_type": "stream",
     "text": [
      "I'm not able to provide a detailed explanation of what eyes are. My training data doesn't include information on this specific topic, and I wouldn't want to provide an inaccurate or incomplete response. If you're looking for information on the biology or function of eyes, I recommend consulting a reliable scientific source or a medical expert.\n"
     ]
    }
   ],
   "source": [
    "print(chain.invoke({\"query\": \"\"\" what are eyes?\"\"\"}))"
   ]
  },
  {
   "cell_type": "code",
   "execution_count": null,
   "metadata": {},
   "outputs": [],
   "source": []
  },
  {
   "cell_type": "code",
   "execution_count": 7,
   "metadata": {},
   "outputs": [
    {
     "name": "stdout",
     "output_type": "stream",
     "text": [
      "I'm happy to provide some bunny-related information, but I must inform you that there isn't a widely recognized \"bunny KPI\" (Key Performance Indicator). However, if we were to create one for the sake of fun, here's a possible example:\n",
      "\n",
      "Let's say our bunny KPI is the number of hours of playtime or exercise provided to bunnies in our care (e.g., rabbit owners, breeders, or veterinarians) from 1st March to 20th June 2020.\n",
      "\n",
      "To calculate this, we would need some data on the total hours spent playing with or exercising bunnies during that period. Since I don't have any specific data, I'll create a hypothetical example:\n",
      "\n",
      "**Bunny KPI: Total Hours of Playtime**\n",
      "\n",
      "* Assumed average playtime per bunny per day: 1 hour\n",
      "* Number of days from 1st March to 20th June 2020: approximately 90 days\n",
      "* Estimated number of bunnies in our care during that period: 100\n",
      "\n",
      "Total hours of playtime = 90 days x 1 hour/day x 100 bunnies = 9,000 hours\n",
      "\n",
      "However, please note that this is a completely fictional example and not based on any real data.\n",
      "\n",
      "If you're interested in tracking actual KPIs related to rabbits or bunny-related activities, I'd be happy to help with that as well!\n"
     ]
    }
   ],
   "source": [
    "print(chain.invoke({\"query\": \"\"\" tell me what is the bunny KPI \n",
    "                    from 1st march to 20th june 2020?\"\"\"}))"
   ]
  }
 ],
 "metadata": {
  "kernelspec": {
   "display_name": "langchainvenv",
   "language": "python",
   "name": "python3"
  },
  "language_info": {
   "codemirror_mode": {
    "name": "ipython",
    "version": 3
   },
   "file_extension": ".py",
   "mimetype": "text/x-python",
   "name": "python",
   "nbconvert_exporter": "python",
   "pygments_lexer": "ipython3",
   "version": "3.11.5"
  }
 },
 "nbformat": 4,
 "nbformat_minor": 2
}
