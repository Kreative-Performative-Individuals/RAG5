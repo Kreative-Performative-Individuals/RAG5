{
 "cells": [
  {
   "cell_type": "code",
   "execution_count": 1,
   "metadata": {},
   "outputs": [
    {
     "name": "stderr",
     "output_type": "stream",
     "text": [
      "USER_AGENT environment variable not set, consider setting it to identify your requests.\n"
     ]
    }
   ],
   "source": [
    "from langchain_community.document_loaders import WebBaseLoader, TextLoader\n",
    "from langchain_text_splitters import RecursiveCharacterTextSplitter\n",
    "from langchain_chroma import Chroma\n",
    "from langchain_ollama import OllamaEmbeddings"
   ]
  },
  {
   "cell_type": "code",
   "execution_count": 2,
   "metadata": {},
   "outputs": [],
   "source": [
    "from langchain_ollama import ChatOllama\n",
    "\n",
    "model = ChatOllama(\n",
    "    model=\"llama3.2\",\n",
    ")"
   ]
  },
  {
   "cell_type": "code",
   "execution_count": 3,
   "metadata": {},
   "outputs": [],
   "source": [
    "loader = TextLoader(\"./kpi_doc.txt\",encoding = 'UTF-8')\n",
    "data = loader.load()\n",
    "text_splitter = RecursiveCharacterTextSplitter(chunk_size=100, chunk_overlap=0)\n",
    "all_splits = text_splitter.split_documents(data)\n",
    "local_embeddings = OllamaEmbeddings(model=\"nomic-embed-text\")\n",
    "vectorstore = Chroma.from_documents(documents=all_splits, embedding=local_embeddings)"
   ]
  },
  {
   "cell_type": "code",
   "execution_count": 4,
   "metadata": {},
   "outputs": [
    {
     "name": "stderr",
     "output_type": "stream",
     "text": [
      "c:\\Users\\Giamm\\Desktop\\RAG2\\RAG5\\langchainvenv\\Lib\\site-packages\\IPython\\core\\interactiveshell.py:3577: LangChainDeprecationWarning: As of langchain-core 0.3.0, LangChain uses pydantic v2 internally. The langchain_core.pydantic_v1 module was a compatibility shim for pydantic v1, and should no longer be used. Please update the code to import from Pydantic directly.\n",
      "\n",
      "For example, replace imports like: `from langchain_core.pydantic_v1 import BaseModel`\n",
      "with: `from pydantic import BaseModel`\n",
      "or the v1 compatibility namespace if you are working in a code base that has not been fully upgraded to pydantic 2 yet. \tfrom pydantic.v1 import BaseModel\n",
      "\n",
      "  exec(code_obj, self.user_global_ns, self.user_ns)\n"
     ]
    }
   ],
   "source": [
    "from langchain_core.output_parsers import StrOutputParser\n",
    "from langchain_core.prompts import ChatPromptTemplate\n",
    "from langchain_core.pydantic_v1 import BaseModel, Field\n"
   ]
  },
  {
   "cell_type": "code",
   "execution_count": null,
   "metadata": {},
   "outputs": [
    {
     "name": "stdout",
     "output_type": "stream",
     "text": [
      "content='Based on the retrieved doc, the main themes in the \"KPIs Ontology\" document appear to be:\\n\\n1. Classification and organization: The document describes a taxonomy that organizes Key Performance Indicators (KPIs) into different classes and subclasses, suggesting a structured approach to categorizing KPIs.\\n2. Entity types: The ontology defines two fundamental entity types: KPI and Machine, indicating that the document aims to establish a clear distinction between these concepts.\\n3. Subclasses: The document mentions that the KPI class branches into Utilization KPIs, suggesting that there may be other subclasses as well, adding complexity to the taxonomy.\\n\\nOverall, the document seems to focus on establishing a logical and structured framework for categorizing and understanding KPIs.' additional_kwargs={} response_metadata={'model': 'llama3.2', 'created_at': '2024-11-11T23:50:56.1740702Z', 'message': {'role': 'assistant', 'content': ''}, 'done_reason': 'stop', 'done': True, 'total_duration': 19077550800, 'load_duration': 10468443900, 'prompt_eval_count': 104, 'prompt_eval_duration': 1434000000, 'eval_count': 156, 'eval_duration': 7164000000} id='run-430a4cef-94e5-47eb-a5fe-35fdb1ee1f94-0' usage_metadata={'input_tokens': 104, 'output_tokens': 156, 'total_tokens': 260}\n"
     ]
    }
   ],
   "source": [
    "prompt = ChatPromptTemplate.from_template(\n",
    "    \"\"\"\n",
    "    Summarize the main themes in these retrieved docs: {docs}\n",
    "    \"\"\" \n",
    ")\n",
    "\n",
    "def format_docs(docs):\n",
    "    return \"\\n\\n\".join(doc.page_content for doc in docs)\n",
    "\n",
    "chain = {\"docs\": format_docs}| prompt | model | StrOutputParser()\n",
    "\n",
    "question = \"what is kpi ontology?\"\n",
    "\n",
    "docs = vectorstore.similarity_search(query=question, k=4)\n",
    "\n",
    "print(chain.invoke(docs))"
   ]
  },
  {
   "cell_type": "code",
   "execution_count": 92,
   "metadata": {},
   "outputs": [],
   "source": [
    "import datetime\n",
    "from typing import Optional\n",
    "class KPIRequest(BaseModel):\n",
    "    name: str = Field(description=\"The name of the KPI\")    \n",
    "    machine: str = Field(description=\"The machine the KPI is for\")  \n",
    "    aggregation: Optional[str] = Field(description=\"The aggregation type of the KPI\")\n",
    "    start_date: Optional[datetime.date] = Field(description=\"The start date of the KPI\")\n",
    "    end_date: Optional[datetime.date] = Field(description=\"The end date of the KPI\")\n"
   ]
  },
  {
   "cell_type": "code",
   "execution_count": 54,
   "metadata": {},
   "outputs": [],
   "source": [
    "import pydantic"
   ]
  },
  {
   "cell_type": "code",
   "execution_count": null,
   "metadata": {},
   "outputs": [],
   "source": [
    "structured_llm = model.with_structured_output(KPIRequest)\n",
    "#query_analyzer = prompt | structured_llm\n",
    "try:\n",
    "    response=structured_llm.invoke(\"\"\"\n",
    "                                    tell me what is the standard deviation of the energy consumption KPI \n",
    "                                   for the Large Capacity Cutting Machine 1 from 1st february 2020 to 1st march 2020\n",
    "                                   \"\"\")\n",
    "except pydantic.v1.error_wrappers.ValidationError as e:\n",
    "    print(e)\n",
    "#print(type(response.name))"
   ]
  },
  {
   "cell_type": "code",
   "execution_count": 100,
   "metadata": {},
   "outputs": [
    {
     "name": "stdout",
     "output_type": "stream",
     "text": [
      "name='energy consumption KPI' machine='Large Capacity Cutting Machine 1' aggregation='stddev' start_date=datetime.date(2020, 2, 1) end_date=datetime.date(2020, 3, 1)\n"
     ]
    }
   ],
   "source": [
    "print(response)"
   ]
  },
  {
   "cell_type": "code",
   "execution_count": 5,
   "metadata": {},
   "outputs": [
    {
     "name": "stdout",
     "output_type": "stream",
     "text": [
      "A cat (Felis catus) is a small, typically furry, carnivorous mammal that belongs to the family Felidae. Cats are one of the most popular pets in the world and have been domesticated for thousands of years.\n",
      "\n",
      "Physical Characteristics:\n",
      "\n",
      "* Cats have a slender body, usually with a long neck and tail.\n",
      "* They have retractable claws, which they use for climbing, hunting, and self-defense.\n",
      "* Their ears are pointed and can be rotated independently to pinpoint sounds.\n",
      "* Cats have excellent eyesight, hearing, and sense of smell.\n",
      "* They come in various coat colors, patterns, and lengths.\n",
      "\n",
      "Behavioral Characteristics:\n",
      "\n",
      "* Cats are known for their independence, aloofness, and playful personalities.\n",
      "* They are highly territorial and have a strong instinct to mark their territory with urine, feces, or scratching marks.\n",
      "* Cats are skilled hunters and can be solitary predators when necessary.\n",
      "* They also have a strong social bond with humans, whom they often seek attention and affection from.\n",
      "\n",
      "Domestication:\n",
      "\n",
      "* The domestication of cats is believed to have occurred around 10,000 years ago in the Middle East.\n",
      "* Early cat domesticates were likely descended from African wildcats (Felis silvestris lybica).\n",
      "* Cats have been kept as pets for centuries, providing companionship and pest control.\n",
      "\n",
      "Nutrition:\n",
      "\n",
      "* Adult cats are obligate carnivores and require a diet rich in protein and fat from animal sources.\n",
      "* They also need essential nutrients like vitamins A, D, E, K, and B12, as well as minerals like calcium and phosphorus.\n",
      "\n",
      "Health:\n",
      "\n",
      "* Cats are prone to various health issues, such as obesity, diabetes, kidney disease, and dental problems.\n",
      "* Regular veterinary check-ups and a balanced diet can help prevent or manage these conditions.\n",
      "\n",
      "Overall, cats are fascinating creatures with unique characteristics that have captivated humans for centuries.\n"
     ]
    }
   ],
   "source": [
    "print(model.invoke(\"what is a cat?\").content)"
   ]
  }
 ],
 "metadata": {
  "kernelspec": {
   "display_name": "langchainvenv",
   "language": "python",
   "name": "python3"
  },
  "language_info": {
   "codemirror_mode": {
    "name": "ipython",
    "version": 3
   },
   "file_extension": ".py",
   "mimetype": "text/x-python",
   "name": "python",
   "nbconvert_exporter": "python",
   "pygments_lexer": "ipython3",
   "version": "3.11.5"
  }
 },
 "nbformat": 4,
 "nbformat_minor": 2
}
