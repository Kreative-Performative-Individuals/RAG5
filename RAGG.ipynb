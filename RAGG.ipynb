{
 "cells": [
  {
   "cell_type": "code",
   "execution_count": 1,
   "metadata": {},
   "outputs": [
    {
     "name": "stderr",
     "output_type": "stream",
     "text": [
      "USER_AGENT environment variable not set, consider setting it to identify your requests.\n"
     ]
    }
   ],
   "source": [
    "from langchain_community.document_loaders import WebBaseLoader, TextLoader\n",
    "from langchain_text_splitters import RecursiveCharacterTextSplitter\n",
    "from langchain_chroma import Chroma\n",
    "from langchain_ollama import OllamaEmbeddings"
   ]
  },
  {
   "cell_type": "code",
   "execution_count": 2,
   "metadata": {},
   "outputs": [],
   "source": [
    "from langchain_ollama import ChatOllama\n",
    "\n",
    "model = ChatOllama(\n",
    "    model=\"llama3.2\",\n",
    ")"
   ]
  },
  {
   "cell_type": "code",
   "execution_count": 3,
   "metadata": {},
   "outputs": [],
   "source": [
    "loader = TextLoader(\"./kpi_doc.txt\",encoding = 'UTF-8')\n",
    "data = loader.load()\n",
    "text_splitter = RecursiveCharacterTextSplitter(chunk_size=100, chunk_overlap=0)\n",
    "all_splits = text_splitter.split_documents(data)\n",
    "local_embeddings = OllamaEmbeddings(model=\"nomic-embed-text\")\n",
    "vectorstore = Chroma.from_documents(documents=all_splits, embedding=local_embeddings)"
   ]
  },
  {
   "cell_type": "code",
   "execution_count": 4,
   "metadata": {},
   "outputs": [
    {
     "name": "stdout",
     "output_type": "stream",
     "text": [
      "It appears that you have retrieved some incomplete or placeholder text from documents. However, I can try to help you identify some possible main themes based on what's available.\n",
      "\n",
      "From what I can gather, the themes seem to revolve around machines and their properties. Here are a few potential main themes:\n",
      "\n",
      "1. **Manufacturing/Assembly**: The mention of an \"assembly machine\" suggests that one of the main themes is related to manufacturing or assembly processes.\n",
      "2. **Performance Metrics/KPIs**: The incomplete text regarding KPIs (Key Performance Indicators) implies that another theme might be focused on measuring performance, efficiency, or productivity.\n",
      "3. **Machine Installation/Location**: The mention of a physical location for a machine suggests that there may also be a theme related to the installation, placement, or usage of machines.\n",
      "\n",
      "If you provide more complete text or context from the documents, I'd be happy to help you identify more specific themes and provide a more detailed analysis.\n"
     ]
    }
   ],
   "source": [
    "from langchain_core.output_parsers import StrOutputParser\n",
    "from langchain_core.prompts import ChatPromptTemplate\n",
    "\n",
    "prompt = ChatPromptTemplate.from_template(\n",
    "    \"\"\"\n",
    "    Summarize the main themes in these retrieved docs: {docs}\n",
    "    \"\"\" \n",
    "\n",
    ")\n",
    "\n",
    "\n",
    "# Convert loaded documents into strings by concatenating their content\n",
    "# and ignoring metadata\n",
    "def format_docs(docs):\n",
    "    return \"\\n\\n\".join(doc.page_content for doc in docs)\n",
    "\n",
    "\n",
    "chain = {\"docs\": format_docs}| prompt | model | StrOutputParser()\n",
    "\n",
    "question = \"what is a cat?\"\n",
    "\n",
    "docs = vectorstore.similarity_search(query=question, k=6)\n",
    "\n",
    "print(chain.invoke(docs))"
   ]
  },
  {
   "cell_type": "code",
   "execution_count": 5,
   "metadata": {},
   "outputs": [
    {
     "name": "stdout",
     "output_type": "stream",
     "text": [
      "A cat (Felis catus) is a small, typically furry, carnivorous mammal that belongs to the family Felidae. Cats are one of the most popular pets in the world and have been domesticated for thousands of years.\n",
      "\n",
      "Physical Characteristics:\n",
      "\n",
      "* Cats have a slender body, usually with a long neck and tail.\n",
      "* They have retractable claws, which they use for climbing, hunting, and self-defense.\n",
      "* Their ears are pointed and can be rotated independently to pinpoint sounds.\n",
      "* Cats have excellent eyesight, hearing, and sense of smell.\n",
      "* They come in various coat colors, patterns, and lengths.\n",
      "\n",
      "Behavioral Characteristics:\n",
      "\n",
      "* Cats are known for their independence, aloofness, and playful personalities.\n",
      "* They are highly territorial and have a strong instinct to mark their territory with urine, feces, or scratching marks.\n",
      "* Cats are skilled hunters and can be solitary predators when necessary.\n",
      "* They also have a strong social bond with humans, whom they often seek attention and affection from.\n",
      "\n",
      "Domestication:\n",
      "\n",
      "* The domestication of cats is believed to have occurred around 10,000 years ago in the Middle East.\n",
      "* Early cat domesticates were likely descended from African wildcats (Felis silvestris lybica).\n",
      "* Cats have been kept as pets for centuries, providing companionship and pest control.\n",
      "\n",
      "Nutrition:\n",
      "\n",
      "* Adult cats are obligate carnivores and require a diet rich in protein and fat from animal sources.\n",
      "* They also need essential nutrients like vitamins A, D, E, K, and B12, as well as minerals like calcium and phosphorus.\n",
      "\n",
      "Health:\n",
      "\n",
      "* Cats are prone to various health issues, such as obesity, diabetes, kidney disease, and dental problems.\n",
      "* Regular veterinary check-ups and a balanced diet can help prevent or manage these conditions.\n",
      "\n",
      "Overall, cats are fascinating creatures with unique characteristics that have captivated humans for centuries.\n"
     ]
    }
   ],
   "source": [
    "print(model.invoke(\"what is a cat?\").content)"
   ]
  }
 ],
 "metadata": {
  "kernelspec": {
   "display_name": "langchainvenv",
   "language": "python",
   "name": "python3"
  },
  "language_info": {
   "codemirror_mode": {
    "name": "ipython",
    "version": 3
   },
   "file_extension": ".py",
   "mimetype": "text/x-python",
   "name": "python",
   "nbconvert_exporter": "python",
   "pygments_lexer": "ipython3",
   "version": "3.11.5"
  }
 },
 "nbformat": 4,
 "nbformat_minor": 2
}
